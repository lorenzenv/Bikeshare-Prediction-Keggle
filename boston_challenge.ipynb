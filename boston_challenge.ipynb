{
 "cells": [
  {
   "cell_type": "markdown",
   "metadata": {},
   "source": [
    "## Boston Housing Challenge - Spiced 2022 - Valentin Lorenzen\n"
   ]
  },
  {
   "cell_type": "code",
   "execution_count": 1,
   "metadata": {},
   "outputs": [],
   "source": [
    "# loading libraries\n",
    "\n",
    "from sklearn.datasets import fetch_california_housing\n",
    "\n",
    "import pandas as pd\n",
    "import numpy as np\n",
    "\n",
    "from sklearn.linear_model import LinearRegression\n",
    "from sklearn.linear_model import PoissonRegressor\n",
    "from sklearn.ensemble import RandomForestRegressor\n",
    "from sklearn.linear_model import Ridge\n",
    "from sklearn.linear_model import Lasso\n",
    "from sklearn.linear_model import ElasticNet\n",
    "\n",
    "import matplotlib.pyplot as plt\n",
    "import seaborn as sns\n",
    "\n",
    "from sklearn.model_selection import train_test_split\n",
    "from sklearn.model_selection import cross_val_score\n",
    "from sklearn.model_selection import KFold\n",
    "from sklearn.model_selection import GridSearchCV\n",
    "\n",
    "from sklearn.preprocessing import StandardScaler, MinMaxScaler, OneHotEncoder, KBinsDiscretizer\n",
    "from sklearn.preprocessing import PolynomialFeatures\n",
    "from sklearn.impute import SimpleImputer\n",
    "from sklearn.compose import ColumnTransformer\n",
    "from sklearn.pipeline import Pipeline\n",
    "\n",
    "from sklearn.metrics import mean_squared_error\n",
    "from sklearn.metrics import mean_squared_log_error\n",
    "\n",
    "import statistics\n",
    "import math\n",
    "\n"
   ]
  },
  {
   "cell_type": "code",
   "execution_count": 2,
   "metadata": {},
   "outputs": [],
   "source": [
    "\n",
    "housing = fetch_california_housing()"
   ]
  },
  {
   "cell_type": "code",
   "execution_count": 3,
   "metadata": {},
   "outputs": [],
   "source": [
    "df = pd.DataFrame(housing.data, columns=housing.feature_names)"
   ]
  },
  {
   "cell_type": "code",
   "execution_count": 4,
   "metadata": {},
   "outputs": [
    {
     "data": {
      "text/html": [
       "<div>\n",
       "<style scoped>\n",
       "    .dataframe tbody tr th:only-of-type {\n",
       "        vertical-align: middle;\n",
       "    }\n",
       "\n",
       "    .dataframe tbody tr th {\n",
       "        vertical-align: top;\n",
       "    }\n",
       "\n",
       "    .dataframe thead th {\n",
       "        text-align: right;\n",
       "    }\n",
       "</style>\n",
       "<table border=\"1\" class=\"dataframe\">\n",
       "  <thead>\n",
       "    <tr style=\"text-align: right;\">\n",
       "      <th></th>\n",
       "      <th>MedInc</th>\n",
       "      <th>HouseAge</th>\n",
       "      <th>AveRooms</th>\n",
       "      <th>AveBedrms</th>\n",
       "      <th>Population</th>\n",
       "      <th>AveOccup</th>\n",
       "      <th>Latitude</th>\n",
       "      <th>Longitude</th>\n",
       "    </tr>\n",
       "  </thead>\n",
       "  <tbody>\n",
       "    <tr>\n",
       "      <th>0</th>\n",
       "      <td>8.3252</td>\n",
       "      <td>41.0</td>\n",
       "      <td>6.984127</td>\n",
       "      <td>1.023810</td>\n",
       "      <td>322.0</td>\n",
       "      <td>2.555556</td>\n",
       "      <td>37.88</td>\n",
       "      <td>-122.23</td>\n",
       "    </tr>\n",
       "    <tr>\n",
       "      <th>1</th>\n",
       "      <td>8.3014</td>\n",
       "      <td>21.0</td>\n",
       "      <td>6.238137</td>\n",
       "      <td>0.971880</td>\n",
       "      <td>2401.0</td>\n",
       "      <td>2.109842</td>\n",
       "      <td>37.86</td>\n",
       "      <td>-122.22</td>\n",
       "    </tr>\n",
       "    <tr>\n",
       "      <th>2</th>\n",
       "      <td>7.2574</td>\n",
       "      <td>52.0</td>\n",
       "      <td>8.288136</td>\n",
       "      <td>1.073446</td>\n",
       "      <td>496.0</td>\n",
       "      <td>2.802260</td>\n",
       "      <td>37.85</td>\n",
       "      <td>-122.24</td>\n",
       "    </tr>\n",
       "    <tr>\n",
       "      <th>3</th>\n",
       "      <td>5.6431</td>\n",
       "      <td>52.0</td>\n",
       "      <td>5.817352</td>\n",
       "      <td>1.073059</td>\n",
       "      <td>558.0</td>\n",
       "      <td>2.547945</td>\n",
       "      <td>37.85</td>\n",
       "      <td>-122.25</td>\n",
       "    </tr>\n",
       "    <tr>\n",
       "      <th>4</th>\n",
       "      <td>3.8462</td>\n",
       "      <td>52.0</td>\n",
       "      <td>6.281853</td>\n",
       "      <td>1.081081</td>\n",
       "      <td>565.0</td>\n",
       "      <td>2.181467</td>\n",
       "      <td>37.85</td>\n",
       "      <td>-122.25</td>\n",
       "    </tr>\n",
       "  </tbody>\n",
       "</table>\n",
       "</div>"
      ],
      "text/plain": [
       "   MedInc  HouseAge  AveRooms  AveBedrms  Population  AveOccup  Latitude  \\\n",
       "0  8.3252      41.0  6.984127   1.023810       322.0  2.555556     37.88   \n",
       "1  8.3014      21.0  6.238137   0.971880      2401.0  2.109842     37.86   \n",
       "2  7.2574      52.0  8.288136   1.073446       496.0  2.802260     37.85   \n",
       "3  5.6431      52.0  5.817352   1.073059       558.0  2.547945     37.85   \n",
       "4  3.8462      52.0  6.281853   1.081081       565.0  2.181467     37.85   \n",
       "\n",
       "   Longitude  \n",
       "0    -122.23  \n",
       "1    -122.22  \n",
       "2    -122.24  \n",
       "3    -122.25  \n",
       "4    -122.25  "
      ]
     },
     "execution_count": 4,
     "metadata": {},
     "output_type": "execute_result"
    }
   ],
   "source": [
    "df.head(5)"
   ]
  },
  {
   "cell_type": "code",
   "execution_count": 5,
   "metadata": {},
   "outputs": [],
   "source": [
    "X = df\n",
    "y = housing.target"
   ]
  },
  {
   "cell_type": "code",
   "execution_count": 6,
   "metadata": {},
   "outputs": [],
   "source": [
    "X_train, X_test, y_train, y_test = train_test_split(X, y, test_size=0.25, random_state=42)"
   ]
  },
  {
   "cell_type": "code",
   "execution_count": 7,
   "metadata": {},
   "outputs": [],
   "source": [
    "initial_transformation = ColumnTransformer(\n",
    "    [\n",
    "        ((\"StandardScaler\"), StandardScaler(), X.columns)\n",
    "    ]\n",
    ")"
   ]
  },
  {
   "cell_type": "code",
   "execution_count": 8,
   "metadata": {},
   "outputs": [],
   "source": [
    "X_train_FE = pd.DataFrame(initial_transformation.fit_transform(X_train), columns=initial_transformation.get_feature_names_out())\n",
    "X_test_FE = pd.DataFrame(initial_transformation.transform(X_test), columns=initial_transformation.get_feature_names_out())"
   ]
  },
  {
   "cell_type": "code",
   "execution_count": 12,
   "metadata": {},
   "outputs": [
    {
     "data": {
      "text/html": [
       "<div>\n",
       "<style scoped>\n",
       "    .dataframe tbody tr th:only-of-type {\n",
       "        vertical-align: middle;\n",
       "    }\n",
       "\n",
       "    .dataframe tbody tr th {\n",
       "        vertical-align: top;\n",
       "    }\n",
       "\n",
       "    .dataframe thead th {\n",
       "        text-align: right;\n",
       "    }\n",
       "</style>\n",
       "<table border=\"1\" class=\"dataframe\">\n",
       "  <thead>\n",
       "    <tr style=\"text-align: right;\">\n",
       "      <th></th>\n",
       "      <th>StandardScaler__MedInc</th>\n",
       "      <th>StandardScaler__HouseAge</th>\n",
       "      <th>StandardScaler__AveRooms</th>\n",
       "      <th>StandardScaler__AveBedrms</th>\n",
       "      <th>StandardScaler__Population</th>\n",
       "      <th>StandardScaler__AveOccup</th>\n",
       "      <th>StandardScaler__Latitude</th>\n",
       "      <th>StandardScaler__Longitude</th>\n",
       "    </tr>\n",
       "  </thead>\n",
       "  <tbody>\n",
       "    <tr>\n",
       "      <th>0</th>\n",
       "      <td>0.176489</td>\n",
       "      <td>0.666407</td>\n",
       "      <td>-0.060854</td>\n",
       "      <td>-0.281118</td>\n",
       "      <td>-0.496544</td>\n",
       "      <td>-0.048283</td>\n",
       "      <td>-0.860741</td>\n",
       "      <td>0.730999</td>\n",
       "    </tr>\n",
       "    <tr>\n",
       "      <th>1</th>\n",
       "      <td>0.771374</td>\n",
       "      <td>1.062889</td>\n",
       "      <td>0.383521</td>\n",
       "      <td>-0.020378</td>\n",
       "      <td>-0.411672</td>\n",
       "      <td>-0.058729</td>\n",
       "      <td>0.709168</td>\n",
       "      <td>-1.196710</td>\n",
       "    </tr>\n",
       "    <tr>\n",
       "      <th>2</th>\n",
       "      <td>0.021424</td>\n",
       "      <td>0.587111</td>\n",
       "      <td>0.278523</td>\n",
       "      <td>-0.084625</td>\n",
       "      <td>-0.626915</td>\n",
       "      <td>-0.072838</td>\n",
       "      <td>1.313701</td>\n",
       "      <td>-1.551288</td>\n",
       "    </tr>\n",
       "    <tr>\n",
       "      <th>3</th>\n",
       "      <td>1.309004</td>\n",
       "      <td>0.269925</td>\n",
       "      <td>0.233072</td>\n",
       "      <td>-0.243135</td>\n",
       "      <td>-0.234928</td>\n",
       "      <td>-0.069768</td>\n",
       "      <td>-0.696721</td>\n",
       "      <td>0.586171</td>\n",
       "    </tr>\n",
       "    <tr>\n",
       "      <th>4</th>\n",
       "      <td>-0.793136</td>\n",
       "      <td>-0.919520</td>\n",
       "      <td>-0.264184</td>\n",
       "      <td>-0.139881</td>\n",
       "      <td>-0.631290</td>\n",
       "      <td>-0.085141</td>\n",
       "      <td>1.369936</td>\n",
       "      <td>-0.872096</td>\n",
       "    </tr>\n",
       "    <tr>\n",
       "      <th>...</th>\n",
       "      <td>...</td>\n",
       "      <td>...</td>\n",
       "      <td>...</td>\n",
       "      <td>...</td>\n",
       "      <td>...</td>\n",
       "      <td>...</td>\n",
       "      <td>...</td>\n",
       "      <td>...</td>\n",
       "    </tr>\n",
       "    <tr>\n",
       "      <th>15475</th>\n",
       "      <td>1.308847</td>\n",
       "      <td>0.507814</td>\n",
       "      <td>0.286357</td>\n",
       "      <td>-0.388828</td>\n",
       "      <td>-0.673288</td>\n",
       "      <td>-0.006223</td>\n",
       "      <td>-0.874800</td>\n",
       "      <td>0.810904</td>\n",
       "    </tr>\n",
       "    <tr>\n",
       "      <th>15476</th>\n",
       "      <td>-0.435101</td>\n",
       "      <td>0.349222</td>\n",
       "      <td>0.591764</td>\n",
       "      <td>0.393370</td>\n",
       "      <td>0.284806</td>\n",
       "      <td>0.066712</td>\n",
       "      <td>-0.762329</td>\n",
       "      <td>1.075590</td>\n",
       "    </tr>\n",
       "    <tr>\n",
       "      <th>15477</th>\n",
       "      <td>-0.495824</td>\n",
       "      <td>0.587111</td>\n",
       "      <td>-0.598322</td>\n",
       "      <td>-0.039164</td>\n",
       "      <td>0.287431</td>\n",
       "      <td>0.018854</td>\n",
       "      <td>-0.757643</td>\n",
       "      <td>0.601153</td>\n",
       "    </tr>\n",
       "    <tr>\n",
       "      <th>15478</th>\n",
       "      <td>0.966991</td>\n",
       "      <td>-1.078113</td>\n",
       "      <td>0.396334</td>\n",
       "      <td>-0.065869</td>\n",
       "      <td>0.305805</td>\n",
       "      <td>0.006042</td>\n",
       "      <td>0.905993</td>\n",
       "      <td>-1.186722</td>\n",
       "    </tr>\n",
       "    <tr>\n",
       "      <th>15479</th>\n",
       "      <td>-0.684349</td>\n",
       "      <td>1.855852</td>\n",
       "      <td>-0.839546</td>\n",
       "      <td>-0.086841</td>\n",
       "      <td>1.042531</td>\n",
       "      <td>-0.083474</td>\n",
       "      <td>0.995032</td>\n",
       "      <td>-1.416449</td>\n",
       "    </tr>\n",
       "  </tbody>\n",
       "</table>\n",
       "<p>15480 rows × 8 columns</p>\n",
       "</div>"
      ],
      "text/plain": [
       "       StandardScaler__MedInc  StandardScaler__HouseAge  \\\n",
       "0                    0.176489                  0.666407   \n",
       "1                    0.771374                  1.062889   \n",
       "2                    0.021424                  0.587111   \n",
       "3                    1.309004                  0.269925   \n",
       "4                   -0.793136                 -0.919520   \n",
       "...                       ...                       ...   \n",
       "15475                1.308847                  0.507814   \n",
       "15476               -0.435101                  0.349222   \n",
       "15477               -0.495824                  0.587111   \n",
       "15478                0.966991                 -1.078113   \n",
       "15479               -0.684349                  1.855852   \n",
       "\n",
       "       StandardScaler__AveRooms  StandardScaler__AveBedrms  \\\n",
       "0                     -0.060854                  -0.281118   \n",
       "1                      0.383521                  -0.020378   \n",
       "2                      0.278523                  -0.084625   \n",
       "3                      0.233072                  -0.243135   \n",
       "4                     -0.264184                  -0.139881   \n",
       "...                         ...                        ...   \n",
       "15475                  0.286357                  -0.388828   \n",
       "15476                  0.591764                   0.393370   \n",
       "15477                 -0.598322                  -0.039164   \n",
       "15478                  0.396334                  -0.065869   \n",
       "15479                 -0.839546                  -0.086841   \n",
       "\n",
       "       StandardScaler__Population  StandardScaler__AveOccup  \\\n",
       "0                       -0.496544                 -0.048283   \n",
       "1                       -0.411672                 -0.058729   \n",
       "2                       -0.626915                 -0.072838   \n",
       "3                       -0.234928                 -0.069768   \n",
       "4                       -0.631290                 -0.085141   \n",
       "...                           ...                       ...   \n",
       "15475                   -0.673288                 -0.006223   \n",
       "15476                    0.284806                  0.066712   \n",
       "15477                    0.287431                  0.018854   \n",
       "15478                    0.305805                  0.006042   \n",
       "15479                    1.042531                 -0.083474   \n",
       "\n",
       "       StandardScaler__Latitude  StandardScaler__Longitude  \n",
       "0                     -0.860741                   0.730999  \n",
       "1                      0.709168                  -1.196710  \n",
       "2                      1.313701                  -1.551288  \n",
       "3                     -0.696721                   0.586171  \n",
       "4                      1.369936                  -0.872096  \n",
       "...                         ...                        ...  \n",
       "15475                 -0.874800                   0.810904  \n",
       "15476                 -0.762329                   1.075590  \n",
       "15477                 -0.757643                   0.601153  \n",
       "15478                  0.905993                  -1.186722  \n",
       "15479                  0.995032                  -1.416449  \n",
       "\n",
       "[15480 rows x 8 columns]"
      ]
     },
     "execution_count": 12,
     "metadata": {},
     "output_type": "execute_result"
    }
   ],
   "source": [
    "X_train_FE"
   ]
  },
  {
   "cell_type": "code",
   "execution_count": 9,
   "metadata": {},
   "outputs": [],
   "source": [
    "models = [\n",
    "LinearRegression(),\n",
    "Ridge(),\n",
    "Lasso(alpha=0.1),\n",
    "ElasticNet(),\n",
    "PoissonRegressor()\n",
    "]"
   ]
  },
  {
   "cell_type": "code",
   "execution_count": 10,
   "metadata": {},
   "outputs": [
    {
     "name": "stdout",
     "output_type": "stream",
     "text": [
      "Validation accuracy scores for LinearRegression(): [0.6  0.63 0.61 0.61 0.59]\n",
      "mean: 0.61\n",
      "std: 0.014\n",
      "\n",
      "Validation accuracy scores for Ridge(): [0.6  0.63 0.61 0.61 0.59]\n",
      "mean: 0.61\n",
      "std: 0.014\n",
      "\n",
      "Validation accuracy scores for Lasso(alpha=0.1): [0.48 0.51 0.49 0.51 0.48]\n",
      "mean: 0.49\n",
      "std: 0.014\n",
      "\n",
      "Validation accuracy scores for ElasticNet(): [0.21 0.21 0.2  0.2  0.21]\n",
      "mean: 0.21\n",
      "std: 0.0016\n",
      "\n",
      "Validation accuracy scores for PoissonRegressor(): [0.44 0.46 0.44 0.45 0.43]\n",
      "mean: 0.45\n",
      "std: 0.012\n",
      "\n"
     ]
    }
   ],
   "source": [
    "# Cross-validation for different models\n",
    "\n",
    "for model in models:\n",
    "\n",
    "    cv = KFold(n_splits=5, shuffle=True, random_state=1)\n",
    "\n",
    "    scores = cross_val_score(model, X_train_FE, y_train, scoring='r2', cv=cv, n_jobs=-1)\n",
    "\n",
    "    scores = abs(scores)\n",
    "\n",
    "    print(f'Validation accuracy scores for {model}: {np.round(scores,2)}')\n",
    "    print(f'mean: {scores.mean():.2}')\n",
    "    print(f'std: {scores.std():.2}\\n')"
   ]
  },
  {
   "cell_type": "code",
   "execution_count": 11,
   "metadata": {},
   "outputs": [
    {
     "name": "stdout",
     "output_type": "stream",
     "text": [
      "best parameters are: Ridge(alpha=10)\n",
      "best score is: 0.6071667315464089\n",
      "\n",
      "best parameters are: Lasso(alpha=0.1, max_iter=100)\n",
      "best score is: 0.4936902501001167\n",
      "\n",
      "best parameters are: PoissonRegressor(alpha=0.1)\n",
      "best score is: 0.49870861701902164\n",
      "\n",
      "best parameters are: ElasticNet(alpha=1, l1_ratio=0.1)\n",
      "best score is: 0.3474960789416772\n",
      "\n",
      "best parameters are: LinearRegression()\n",
      "best score is: 0.607159968693202\n",
      "\n",
      "best parameters are: RandomForestRegressor(max_depth=15, min_samples_split=3, n_estimators=20)\n",
      "best score is: 0.7911230672169487\n",
      "\n"
     ]
    }
   ],
   "source": [
    "# using GridSeachCV with different models and parameters\n",
    "\n",
    "models = {\n",
    "    'Ridge': Ridge(),\n",
    "    'Lasso': Lasso(),\n",
    "    'PoissonRegressor': PoissonRegressor(),\n",
    "    'Elastic_Net': ElasticNet(),\n",
    "    'LinearRegression': LinearRegression(),\n",
    "    'RandomForestRegressor': RandomForestRegressor()\n",
    "}\n",
    "\n",
    "params = {\n",
    "    'Ridge': {\n",
    "        'alpha': [0.1,0.3,0.5,0.7,2,5,10,20,50,100]\n",
    "    },\n",
    "    'Lasso': {\n",
    "        'max_iter': [100,500,1000],\n",
    "        'alpha': [0.1,0.3,0.5,0.7,2,5,10,20,50,100]\n",
    "\n",
    "    },\n",
    "    \"PoissonRegressor\": {\n",
    "        'max_iter': [100,500,1000],\n",
    "        'alpha': [0.1,0.3,0.5,0.7,2,5,10,20,50,100]\n",
    "    },\n",
    "    \"Elastic_Net\": {\n",
    "        'l1_ratio': [0.1,0.3,0.5,0.7,0.9],\n",
    "        'alpha': [1,2,5,8,10,20,30]\n",
    "    },\n",
    "    'LinearRegression': {\n",
    "    },\n",
    "    'RandomForestRegressor': {\n",
    "        'max_depth': [15],\n",
    "        'n_estimators': [20],\n",
    "        'min_samples_split': [2,3]\n",
    "    }\n",
    "}\n",
    "\n",
    "def fit(train_features, train_actuals):\n",
    "        for name in models.keys():\n",
    "            est = models[name]\n",
    "            est_params = params[name]\n",
    "            gscv = GridSearchCV(estimator=est, param_grid=est_params, cv=5, scoring=\"r2\")\n",
    "            gscv.fit(train_features, train_actuals)\n",
    "            print(\"best parameters are: {}\".format(gscv.best_estimator_))\n",
    "            print(\"best score is: {}\\n\".format(gscv.best_score_))\n",
    "\n",
    "fit(X_train_FE, y_train)"
   ]
  },
  {
   "cell_type": "code",
   "execution_count": 21,
   "metadata": {},
   "outputs": [
    {
     "data": {
      "text/plain": [
       "RandomForestRegressor(max_depth=15, min_samples_split=3, n_estimators=700,\n",
       "                      n_jobs=-1)"
      ]
     },
     "execution_count": 21,
     "metadata": {},
     "output_type": "execute_result"
    }
   ],
   "source": [
    "rf_m = RandomForestRegressor(n_estimators=700, max_depth=15, min_samples_split=3, n_jobs=-1)\n",
    "rf_m.fit(X_train_FE, y_train)"
   ]
  },
  {
   "cell_type": "code",
   "execution_count": 22,
   "metadata": {},
   "outputs": [
    {
     "data": {
      "text/plain": [
       "0.9556598846728522"
      ]
     },
     "execution_count": 22,
     "metadata": {},
     "output_type": "execute_result"
    }
   ],
   "source": [
    "rf_m.score(X_train_FE, y_train)"
   ]
  },
  {
   "cell_type": "code",
   "execution_count": 23,
   "metadata": {},
   "outputs": [
    {
     "data": {
      "text/plain": [
       "0.8060434817847564"
      ]
     },
     "execution_count": 23,
     "metadata": {},
     "output_type": "execute_result"
    }
   ],
   "source": [
    "rf_m.score(X_test_FE,y_test)"
   ]
  },
  {
   "cell_type": "code",
   "execution_count": 28,
   "metadata": {},
   "outputs": [
    {
     "name": "stdout",
     "output_type": "stream",
     "text": [
      "Validation-scores: [0.81 0.8  0.79 0.81 0.81]\n",
      "mean: 0.8\n",
      "standard diviation: 0.0087\n"
     ]
    }
   ],
   "source": [
    "#cv = KFold(n_splits=5, shuffle=True, random_state=42)\n",
    "#scores = cross_val_score(rf_m, X_train, y_train, cv=cv, scoring=\"r2\")\n",
    "\n",
    "print(f'Validation-scores: {np.round(scores,2)}')\n",
    "print(f'mean: {scores.mean():.2}')\n",
    "print(f'standard diviation: {scores.std():.2}')"
   ]
  },
  {
   "cell_type": "code",
   "execution_count": null,
   "metadata": {},
   "outputs": [],
   "source": []
  }
 ],
 "metadata": {
  "kernelspec": {
   "display_name": "Python 3.9.7 ('base')",
   "language": "python",
   "name": "python3"
  },
  "language_info": {
   "codemirror_mode": {
    "name": "ipython",
    "version": 3
   },
   "file_extension": ".py",
   "mimetype": "text/x-python",
   "name": "python",
   "nbconvert_exporter": "python",
   "pygments_lexer": "ipython3",
   "version": "3.9.7"
  },
  "orig_nbformat": 4,
  "vscode": {
   "interpreter": {
    "hash": "abc7d9422c788b1f325554a74823655484f1a6b478c1481f1f9705007e56709b"
   }
  }
 },
 "nbformat": 4,
 "nbformat_minor": 2
}
